{
 "cells": [
  {
   "cell_type": "markdown",
   "id": "developmental-september",
   "metadata": {},
   "source": [
    "# DISCO Metrics Query Tool"
   ]
  },
  {
   "cell_type": "code",
   "execution_count": 1,
   "id": "breeding-helen",
   "metadata": {},
   "outputs": [
    {
     "name": "stdout",
     "output_type": "stream",
     "text": [
      "inputs:\n",
      "namespace(feeder_head=None, feeder_losses=None, metadata=None, thermal_metrics=None, voltage_metrics=None)\n",
      "\n",
      "outputs:\n",
      "namespace(feeder_head=None, feeder_losses=None, metadata=None, thermal_metrics=None, voltage_metrics=None)\n"
     ]
    }
   ],
   "source": [
    "%run -i \"load_namespaces.py\""
   ]
  },
  {
   "cell_type": "markdown",
   "id": "antique-designer",
   "metadata": {},
   "source": [
    "## Load Tables"
   ]
  },
  {
   "cell_type": "code",
   "execution_count": 2,
   "id": "suitable-female",
   "metadata": {
    "scrolled": false
   },
   "outputs": [
    {
     "data": {
      "application/vnd.jupyter.widget-view+json": {
       "model_id": "b5f5a95b1d5f4743833fa072ab3dfbf4",
       "version_major": 2,
       "version_minor": 0
      },
      "text/plain": [
       "Tab(children=(VBox(children=(Text(value='', layout=Layout(width='99.5%'), placeholder='result directory of sum…"
      ]
     },
     "metadata": {},
     "output_type": "display_data"
    },
    {
     "data": {
      "application/vnd.jupyter.widget-view+json": {
       "model_id": "1607566befdb4c01b19ba83ff1f75342",
       "version_major": 2,
       "version_minor": 0
      },
      "text/plain": [
       "Button(description='Load Metrics', style=ButtonStyle())"
      ]
     },
     "metadata": {},
     "output_type": "display_data"
    },
    {
     "data": {
      "application/vnd.jupyter.widget-view+json": {
       "model_id": "75bf2029ff1842e0aff031c31a6b9ae7",
       "version_major": 2,
       "version_minor": 0
      },
      "text/plain": [
       "Output()"
      ]
     },
     "metadata": {},
     "output_type": "display_data"
    }
   ],
   "source": [
    "%run -i \"load_tables_ui.py\""
   ]
  },
  {
   "cell_type": "markdown",
   "id": "corresponding-involvement",
   "metadata": {},
   "source": [
    "## Query Metrics"
   ]
  },
  {
   "cell_type": "code",
   "execution_count": 3,
   "id": "realistic-albuquerque",
   "metadata": {
    "scrolled": false
   },
   "outputs": [
    {
     "data": {
      "application/vnd.jupyter.widget-view+json": {
       "model_id": "ec34d3b2bd5147b7837d583652164958",
       "version_major": 2,
       "version_minor": 0
      },
      "text/plain": [
       "Tab(children=(VBox(children=(HBox(children=(Checkbox(value=False, description='name', indent=False, layout=Lay…"
      ]
     },
     "metadata": {},
     "output_type": "display_data"
    },
    {
     "data": {
      "application/vnd.jupyter.widget-view+json": {
       "model_id": "420b35c9e4b14a3691bc06fb07a54ca8",
       "version_major": 2,
       "version_minor": 0
      },
      "text/plain": [
       "HBox(children=(Button(description='Build Query', style=ButtonStyle()), Button(description='Run Query', style=B…"
      ]
     },
     "metadata": {},
     "output_type": "display_data"
    },
    {
     "data": {
      "application/vnd.jupyter.widget-view+json": {
       "model_id": "ad0e765e438543b4a2c419828e8abd10",
       "version_major": 2,
       "version_minor": 0
      },
      "text/plain": [
       "Output()"
      ]
     },
     "metadata": {},
     "output_type": "display_data"
    }
   ],
   "source": [
    "%run -i \"load_queries_ui.py\""
   ]
  },
  {
   "cell_type": "markdown",
   "id": "great-state",
   "metadata": {},
   "source": [
    "## Hosting Capacity"
   ]
  },
  {
   "cell_type": "code",
   "execution_count": 4,
   "id": "pursuant-graphics",
   "metadata": {},
   "outputs": [
    {
     "name": "stdout",
     "output_type": "stream",
     "text": [
      "{}\n"
     ]
    }
   ],
   "source": [
    "%run -i \"compute_hc.py\""
   ]
  }
 ],
 "metadata": {
  "kernelspec": {
   "display_name": "Python 3",
   "language": "python",
   "name": "python3"
  },
  "language_info": {
   "codemirror_mode": {
    "name": "ipython",
    "version": 3
   },
   "file_extension": ".py",
   "mimetype": "text/x-python",
   "name": "python",
   "nbconvert_exporter": "python",
   "pygments_lexer": "ipython3",
   "version": "3.7.9"
  }
 },
 "nbformat": 4,
 "nbformat_minor": 5
}
